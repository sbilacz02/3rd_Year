{
 "cells": [
  {
   "cell_type": "code",
   "execution_count": 8,
   "id": "f81e488c",
   "metadata": {},
   "outputs": [
    {
     "name": "stdout",
     "output_type": "stream",
     "text": [
      "[2.51235000e-21 5.02470000e-21 7.53705000e-21 1.00494000e-20\n",
      " 1.25617500e-20 1.50741000e-20 1.75864500e-20 2.00988000e-20\n",
      " 2.26111500e-20 2.51235000e-20 2.76358500e-20 3.01482000e-20\n",
      " 3.26605500e-20 3.51729000e-20 3.76852500e-20 4.01976000e-20\n",
      " 4.27099500e-20 4.52223000e-20 4.77346500e-20 5.02470000e-20\n",
      " 5.27593500e-20 5.52717000e-20 5.77840500e-20 6.02964000e-20\n",
      " 6.28087500e-20 6.53211000e-20 6.78334500e-20 7.03458000e-20\n",
      " 7.28581500e-20 7.53705000e-20 7.78828500e-20 8.03952000e-20\n",
      " 8.29075500e-20 8.54199000e-20 8.79322500e-20 9.04446000e-20\n",
      " 9.29569500e-20 9.54693000e-20 9.79816500e-20 1.00494000e-19\n",
      " 1.03006350e-19 1.05518700e-19 1.08031050e-19 1.10543400e-19\n",
      " 1.13055750e-19 1.15568100e-19 1.18080450e-19 1.20592800e-19\n",
      " 1.23105150e-19 1.25617500e-19 1.28129850e-19 1.30642200e-19\n",
      " 1.33154550e-19 1.35666900e-19 1.38179250e-19 1.40691600e-19\n",
      " 1.43203950e-19 1.45716300e-19 1.48228650e-19 1.50741000e-19\n",
      " 1.53253350e-19 1.55765700e-19 1.58278050e-19 1.60790400e-19\n",
      " 1.63302750e-19 1.65815100e-19 1.68327450e-19 1.70839800e-19\n",
      " 1.73352150e-19 1.75864500e-19 1.78376850e-19 1.80889200e-19\n",
      " 1.83401550e-19 1.85913900e-19 1.88426250e-19 1.90938600e-19\n",
      " 1.93450950e-19 1.95963300e-19 1.98475650e-19 2.00988000e-19\n",
      " 2.03500350e-19 2.06012700e-19 2.08525050e-19 2.11037400e-19\n",
      " 2.13549750e-19 2.16062100e-19 2.18574450e-19 2.21086800e-19\n",
      " 2.23599150e-19 2.26111500e-19 2.28623850e-19 2.31136200e-19\n",
      " 2.33648550e-19 2.36160900e-19 2.38673250e-19 2.41185600e-19\n",
      " 2.43697950e-19 2.46210300e-19 2.48722650e-19 2.51235000e-19\n",
      " 2.53747350e-19 2.76561518e-19 2.99375686e-19 3.22189855e-19\n",
      " 3.45004023e-19 3.67818191e-19 3.90632359e-19 4.13446527e-19\n",
      " 4.36260695e-19 4.59074864e-19 4.81889032e-19 5.04703200e-19\n",
      " 5.27517368e-19 5.50331536e-19 5.73145705e-19 5.95959873e-19\n",
      " 6.18774041e-19 6.41588209e-19 6.64402377e-19 6.87216545e-19\n",
      " 7.10030714e-19 7.32844882e-19 7.55659050e-19 7.78473218e-19\n",
      " 8.01287386e-19 8.24101555e-19 8.46915723e-19 8.69729891e-19\n",
      " 8.92544059e-19 9.15358227e-19 9.38172395e-19 9.60986564e-19\n",
      " 9.83800732e-19 1.00661490e-18 1.02942907e-18 1.05224324e-18\n",
      " 1.07505740e-18 1.09787157e-18 1.12068574e-18 1.14349991e-18\n",
      " 1.16631408e-18 1.18912825e-18 1.21194241e-18 1.23475658e-18\n",
      " 1.25757075e-18 1.28038492e-18 1.30319909e-18 1.32601325e-18\n",
      " 1.34882742e-18 1.37164159e-18 1.39445576e-18 1.41726993e-18\n",
      " 1.44008410e-18 1.46289826e-18 1.48571243e-18 1.50852660e-18\n",
      " 1.53134077e-18 1.55415494e-18 1.57696910e-18 1.59978327e-18\n",
      " 1.62259744e-18 1.64541161e-18 1.66822578e-18 1.69103995e-18\n",
      " 1.71385411e-18 1.73666828e-18 1.75948245e-18 1.78229662e-18\n",
      " 1.80511079e-18 1.82792495e-18 1.85073912e-18 1.87355329e-18\n",
      " 1.89636746e-18 1.91918163e-18 1.94199580e-18 1.96480996e-18\n",
      " 1.98762413e-18 2.01043830e-18 2.03325247e-18 2.05606664e-18\n",
      " 2.07888080e-18 2.10169497e-18 2.12450914e-18 2.14732331e-18\n",
      " 2.17013748e-18 2.19295165e-18 2.21576581e-18 2.23857998e-18\n",
      " 2.26139415e-18 2.28420832e-18 2.30702249e-18 2.32983665e-18\n",
      " 2.35265082e-18 2.37546499e-18 2.39827916e-18 2.42109333e-18\n",
      " 2.44390750e-18 2.46672166e-18 2.48953583e-18 2.51235000e-18]\n"
     ]
    }
   ],
   "source": [
    "import numpy as np\n",
    "import scipy.integrate as sp\n",
    "import matplotlib.pyplot as plt\n",
    "\n",
    "# Define constants\n",
    "rho = 1\n",
    "c = 3.00*(10**8)\n",
    "h_bar = (6.63*10**-34)/(2*np.pi)\n",
    "epsilon = rho*(c**2)\n",
    "m_N = (((1.6749*10**-27 * 6) + (1.6726*10**-27 * 6))/12)\n",
    "m_n = (1.6749*10**-27)\n",
    "m_e = (9.11*10**-31)\n",
    "G = 6.67*10**-11\n",
    "\n",
    "k_F_div1 = np.linspace(0.01, 1, 100) \n",
    "k_F_div2 = np.linspace(1.01, 10, 100)\n",
    "\n",
    "k_F_div = k_F_div1.tolist() + k_F_div2.tolist()\n",
    "\n",
    "k_Fs = np.array(k_F_div)*(m_n*c)\n",
    "\n",
    "Densities = (m_n/(3*np.pi**2))*(k_Fs/h_bar)**3\n",
    "\n",
    "print(Densities)"
   ]
  },
  {
   "cell_type": "code",
   "execution_count": 2,
   "id": "a18cea8c",
   "metadata": {},
   "outputs": [
    {
     "name": "stdout",
     "output_type": "stream",
     "text": [
      "[1.09939640e+25 3.51769163e+26 2.67077037e+27 1.12517939e+28\n",
      " 3.43267328e+28 8.53824288e+28 1.84459704e+29 3.59442680e+29\n",
      " 6.47336529e+29 1.09553185e+30 1.76305395e+30 2.72179522e+30\n",
      " 4.05772922e+30 5.87210465e+30 8.28261791e+30 1.14245628e+31\n",
      " 1.54519563e+31 2.05386382e+31 2.68793456e+31 3.46907586e+31\n",
      " 4.42125185e+31 5.57082158e+31 6.94663496e+31 8.58012551e+31\n",
      " 1.05054000e+32 1.27593252e+32 1.53816110e+32 1.84148904e+32\n",
      " 2.19047971e+32 2.59000383e+32 3.04524657e+32 3.56171427e+32\n",
      " 4.14524083e+32 4.80199378e+32 5.53848009e+32 6.36155161e+32\n",
      " 7.27841022e+32 8.29661271e+32 9.42407532e+32 1.06690780e+33\n",
      " 1.20402685e+33 1.35466660e+33 1.51976645e+33 1.70030361e+33\n",
      " 1.89729341e+33 2.11178952e+33 2.34488427e+33 2.59770881e+33\n",
      " 2.87143333e+33 3.16726725e+33 3.48645940e+33 3.83029809e+33\n",
      " 4.20011133e+33 4.59726687e+33 5.02317228e+33 5.47927510e+33\n",
      " 5.96706280e+33 6.48806291e+33 7.04384298e+33 7.63601066e+33\n",
      " 8.26621366e+33 8.93613976e+33 9.64751681e+33 1.04021127e+34\n",
      " 1.12017352e+34 1.20482323e+34 1.29434917e+34 1.38894408e+34\n",
      " 1.48880472e+34 1.59413178e+34 1.70512994e+34 1.82200782e+34\n",
      " 1.94497801e+34 2.07425700e+34 2.21006524e+34 2.35262709e+34\n",
      " 2.50217081e+34 2.65892859e+34 2.82313646e+34 2.99503437e+34\n",
      " 3.17486612e+34 3.36287937e+34 3.55932561e+34 3.76446019e+34\n",
      " 3.97854227e+34 4.20183482e+34 4.43460462e+34 4.67712222e+34\n",
      " 4.92966198e+34 5.19250201e+34 5.46592417e+34 5.75021408e+34\n",
      " 6.04566109e+34 6.35255827e+34 6.67120242e+34 7.00189403e+34\n",
      " 7.34493728e+34 7.70064004e+34 8.06931387e+34 8.45127396e+34\n",
      " 8.84683917e+34 1.31173700e+35 1.87935038e+35 2.61545270e+35\n",
      " 3.55035011e+35 4.71669211e+35 6.14944500e+35 7.88587157e+35\n",
      " 9.96551566e+35 1.24301907e+36 1.53239712e+36 1.86931861e+36\n",
      " 2.25864145e+36 2.70544822e+36 3.21504589e+36 3.79296570e+36\n",
      " 4.44496299e+36 5.17701715e+36 5.99533156e+36 6.90633354e+36\n",
      " 7.91667434e+36 9.03322915e+36 1.02630971e+37 1.16136011e+37\n",
      " 1.30922883e+37 1.47069296e+37 1.64655199e+37 1.83762779e+37\n",
      " 2.04476468e+37 2.26882932e+37 2.51071083e+37 2.77132068e+37\n",
      " 3.05159279e+37 3.35248346e+37 3.67497142e+37 4.02005778e+37\n",
      " 4.38876609e+37 4.78214229e+37 5.20125474e+37 5.64719423e+37\n",
      " 6.12107394e+37 6.62402947e+37 7.15721884e+37 7.72182250e+37\n",
      " 8.31904329e+37 8.95010648e+37 9.61625977e+37 1.03187733e+38\n",
      " 1.10589395e+38 1.18380734e+38 1.26575124e+38 1.35186162e+38\n",
      " 1.44227671e+38 1.53713697e+38 1.63658510e+38 1.74076605e+38\n",
      " 1.84982701e+38 1.96391742e+38 2.08318895e+38 2.20779551e+38\n",
      " 2.33789327e+38 2.47364063e+38 2.61519823e+38 2.76272895e+38\n",
      " 2.91639793e+38 3.07637254e+38 3.24282239e+38 3.41591933e+38\n",
      " 3.59583747e+38 3.78275315e+38 3.97684496e+38 4.17829371e+38\n",
      " 4.38728247e+38 4.60399657e+38 4.82862354e+38 5.06135320e+38\n",
      " 5.30237758e+38 5.55189095e+38 5.81008985e+38 6.07717304e+38\n",
      " 6.35334153e+38 6.63879857e+38 6.93374967e+38 7.23840255e+38\n",
      " 7.55296719e+38 7.87765582e+38 8.21268291e+38 8.55826516e+38\n",
      " 8.91462153e+38 9.28197320e+38 9.66054361e+38 1.00505584e+39\n",
      " 1.04522456e+39 1.08658353e+39 1.12915599e+39 1.17296541e+39\n",
      " 1.21803547e+39 1.26439009e+39 1.31205341e+39 1.36104979e+39]\n"
     ]
    }
   ],
   "source": [
    "# Integrate for pressure for neutrons\n",
    "\n",
    "def integrand_P(u):\n",
    "    return (u**2 + 1)**(-1/2)*u**4\n",
    "\n",
    "def integrate_P(x):\n",
    "    I = sp.quad(integrand_P, 0, x)\n",
    "    return I[0]*((m_n**4*c**5)/(3*np.pi**2*h_bar**3))\n",
    "\n",
    "# For all k_F\n",
    "    \n",
    "def results_P(k_F):\n",
    "    Results = []\n",
    "    for i in range (0, len(k_F)):\n",
    "        Results = Results + [integrate_P(k_F[i])]\n",
    "    return Results\n",
    "        \n",
    "Pressures = np.array(results_P(k_F_div))\n",
    "\n",
    "print(Pressures)"
   ]
  },
  {
   "cell_type": "code",
   "execution_count": 3,
   "id": "7dc1043d",
   "metadata": {},
   "outputs": [
    {
     "name": "stdout",
     "output_type": "stream",
     "text": [
      "[5.49734321e+29 4.39827033e+30 1.48463882e+31 3.51988236e+31\n",
      " 6.87662418e+31 1.18867207e+32 1.88830147e+32 2.81995308e+32\n",
      " 4.01716703e+32 5.51364050e+32 7.34324698e+32 9.54005539e+32\n",
      " 1.21383491e+33 1.51726446e+33 1.86777105e+33 2.26885859e+33\n",
      " 2.72405982e+33 3.23693820e+33 3.81108966e+33 4.45014435e+33\n",
      " 5.15776841e+33 5.93766568e+33 6.79357941e+33 7.72929389e+33\n",
      " 8.74863615e+33 9.85547752e+33 1.10537353e+34 1.23473741e+34\n",
      " 1.37404079e+34 1.52369007e+34 1.68409690e+34 1.85567823e+34\n",
      " 2.03885653e+34 2.23405987e+34 2.44172208e+34 2.66228290e+34\n",
      " 2.89618808e+34 3.14388952e+34 3.40584539e+34 3.68252024e+34\n",
      " 3.97438516e+34 4.28191784e+34 4.60560270e+34 4.94593103e+34\n",
      " 5.30340104e+34 5.67851802e+34 6.07179440e+34 6.48374985e+34\n",
      " 6.91491140e+34 7.36581350e+34 7.83699815e+34 8.32901493e+34\n",
      " 8.84242114e+34 9.37778183e+34 9.93566993e+34 1.05166663e+35\n",
      " 1.11213597e+35 1.17503472e+35 1.24042339e+35 1.30836329e+35\n",
      " 1.37891658e+35 1.45214626e+35 1.52811616e+35 1.60689095e+35\n",
      " 1.68853615e+35 1.77311816e+35 1.86070421e+35 1.95136242e+35\n",
      " 2.04516178e+35 2.14217214e+35 2.24246425e+35 2.34610973e+35\n",
      " 2.45318111e+35 2.56375180e+35 2.67789610e+35 2.79568923e+35\n",
      " 2.91720730e+35 3.04252734e+35 3.17172729e+35 3.30488600e+35\n",
      " 3.44208324e+35 3.58339971e+35 3.72891702e+35 3.87871771e+35\n",
      " 4.03288526e+35 4.19150408e+35 4.35465951e+35 4.52243783e+35\n",
      " 4.69492624e+35 4.87221293e+35 5.05438698e+35 5.24153845e+35\n",
      " 5.43375833e+35 5.63113857e+35 5.83377207e+35 6.04175269e+35\n",
      " 6.25517522e+35 6.47413542e+35 6.69873003e+35 6.92905671e+35\n",
      " 7.16521412e+35 9.59375993e+35 1.25901019e+36 1.62390880e+36\n",
      " 2.06322229e+36 2.58676979e+36 3.20504113e+36 3.92919813e+36\n",
      " 4.77107551e+36 5.74318139e+36 6.85869760e+36 8.13147989e+36\n",
      " 9.57605800e+36 1.12076357e+37 1.30420907e+37 1.50959748e+37\n",
      " 1.73865135e+37 1.99316063e+37 2.27498264e+37 2.58604207e+37\n",
      " 2.92833097e+37 3.30390876e+37 3.71490220e+37 4.16350541e+37\n",
      " 4.65197982e+37 5.18265424e+37 5.75792477e+37 6.38025488e+37\n",
      " 7.05217534e+37 7.77628423e+37 8.55524699e+37 9.39179633e+37\n",
      " 1.02887323e+38 1.12489223e+38 1.22753009e+38 1.33708701e+38\n",
      " 1.45386993e+38 1.57819250e+38 1.71037510e+38 1.85074486e+38\n",
      " 1.99963563e+38 2.15738798e+38 2.32434922e+38 2.50087339e+38\n",
      " 2.68732126e+38 2.88406033e+38 3.09146482e+38 3.30991570e+38\n",
      " 3.53980063e+38 3.78151405e+38 4.03545709e+38 4.30203763e+38\n",
      " 4.58167026e+38 4.87477633e+38 5.18178389e+38 5.50312774e+38\n",
      " 5.83924938e+38 6.19059707e+38 6.55762578e+38 6.94079723e+38\n",
      " 7.34057983e+38 7.75744877e+38 8.19188592e+38 8.64437991e+38\n",
      " 9.11542609e+38 9.60552653e+38 1.01151900e+39 1.06449322e+39\n",
      " 1.11952752e+39 1.17667480e+39 1.23598865e+39 1.29752330e+39\n",
      " 1.36133367e+39 1.42747535e+39 1.49600461e+39 1.56697838e+39\n",
      " 1.64045427e+39 1.71649057e+39 1.79514622e+39 1.87648087e+39\n",
      " 1.96055480e+39 2.04742899e+39 2.13716509e+39 2.22982541e+39\n",
      " 2.32547296e+39 2.42417139e+39 2.52598504e+39 2.63097892e+39\n",
      " 2.73921872e+39 2.85077080e+39 2.96570217e+39 3.08408055e+39\n",
      " 3.20597431e+39 3.33145250e+39 3.46058483e+39 3.59344170e+39\n",
      " 3.73009419e+39 3.87061401e+39 4.01507360e+39 4.16354603e+39]\n"
     ]
    }
   ],
   "source": [
    "# Integrate for energy density\n",
    "\n",
    "def integrand_E(u):\n",
    "    return (u**2 + 1)**(1/2)*u**2\n",
    "\n",
    "def integrate_E(x):\n",
    "    I = sp.quad(integrand_E, 0, x)\n",
    "    return I[0]*((m_n**4*c**5)/(np.pi**2*h_bar**3))\n",
    "\n",
    "# For all k_F\n",
    "    \n",
    "def results_E(k_F):\n",
    "    Results = []\n",
    "    for i in range (0, len(k_F)):\n",
    "        Results = Results + [integrate_E(k_F[i])]\n",
    "    return Results\n",
    "\n",
    "E_D = results_E(k_F_div)\n",
    "\n",
    "E_Densities = np.array(E_D)\n",
    "\n",
    "print(E_Densities)"
   ]
  },
  {
   "cell_type": "code",
   "execution_count": 4,
   "id": "86c53ec8",
   "metadata": {},
   "outputs": [
    {
     "name": "stdout",
     "output_type": "stream",
     "text": [
      "[3.61839553e+14 2.97784309e+00]\n",
      "[1.37334086e+12 3.77063783e-04]\n"
     ]
    },
    {
     "data": {
      "image/png": "[encoded data removed]",
      "text/plain": [
       "<Figure size 432x288 with 1 Axes>"
      ]
     },
     "metadata": {
      "needs_background": "light"
     },
     "output_type": "display_data"
    }
   ],
   "source": [
    "# Plot\n",
    "from scipy.optimize import curve_fit\n",
    "\n",
    "\n",
    "def func(x, a, b):\n",
    "    return a*x**(3/5) + b*x\n",
    "\n",
    "plt.plot(Pressures, E_Densities)\n",
    "\n",
    "plt.xlabel(\"Pressure ($Pa$)\")\n",
    "plt.ylabel(\"ε ($J m^{-3}$)\")\n",
    "\n",
    "popt, pcov = curve_fit(func, Pressures, E_Densities, p0 = [10**15, 10])\n",
    "\n",
    "print(popt)\n",
    "\n",
    "plt.plot(Pressures, func(Pressures, *popt))\n",
    "\n",
    "A_NR, A_R = popt\n",
    "perr = np.sqrt(np.diag(pcov))\n",
    "\n",
    "print(perr)\n",
    "\n",
    "plt.savefig('ε v Pressure Numerical_Neutron Star.png')"
   ]
  },
  {
   "cell_type": "code",
   "execution_count": 5,
   "id": "64200d9f",
   "metadata": {},
   "outputs": [],
   "source": [
    "def dM_dr(P, m, r):\n",
    "    dMdr = (4*np.pi*r**2*(A_NR*P**(3/5) + A_R*P))/(c**2)\n",
    "    return dMdr\n",
    "\n",
    "def dP_dr_Gen(P, m, r):\n",
    "    dPdr = (-(G*(A_NR*P**(3/5) + A_R*P)*m)/(c**2*r**2))*(1-(P/(A_NR*P**(3/5) + A_R*P)))*(1+(4*np.pi*r**3*P)/(m*c**2))*(1-(2*G*m)/(c**2*r))**(-1)\n",
    "    return dPdr\n",
    "\n",
    "def dP_dr_Spec(P, m, r):\n",
    "    dPdr = -(G*(A_NR*P**(3/5) + A_R*P)*m)/(c**2*r**2)\n",
    "    return dPdr\n",
    "\n",
    "def integrate_Gen(P, m):\n",
    "    end = False\n",
    "    r = 1\n",
    "    step = 50\n",
    "    Masses = []\n",
    "    Pressures = []\n",
    "    Radii = []\n",
    "    while end == False:\n",
    "        slope_m = dM_dr(P, m, r)\n",
    "        m = m + slope_m * step\n",
    "        slope_P = dP_dr_Gen(P, m, r)\n",
    "        P = P + slope_P * step\n",
    "        if P < 0:\n",
    "            break\n",
    "        Masses = Masses + [m]\n",
    "        Pressures = Pressures + [P]\n",
    "        Radii = Radii + [r]\n",
    "        r = r + step\n",
    "    print (m)\n",
    "    return Masses, Pressures, Radii\n",
    "\n",
    "def integrate_Spec(P, m):\n",
    "    end = False\n",
    "    r = 1\n",
    "    step = 50\n",
    "    Masses = []\n",
    "    Pressures = []\n",
    "    Radii = []\n",
    "    while end == False:\n",
    "        slope_m = dM_dr(P, m, r)\n",
    "        m = m + slope_m * step\n",
    "        slope_P = dP_dr_Spec(P, m, r)\n",
    "        P = P + slope_P * step\n",
    "        if P < 0:\n",
    "            break\n",
    "        Masses = Masses + [m]\n",
    "        Pressures = Pressures + [P]\n",
    "        Radii = Radii + [r]\n",
    "        r = r + step\n",
    "    print (m)\n",
    "    return Masses, Pressures, Radii"
   ]
  },
  {
   "cell_type": "code",
   "execution_count": 6,
   "id": "2ef489cc",
   "metadata": {},
   "outputs": [
    {
     "name": "stdout",
     "output_type": "stream",
     "text": [
      "2.3260667745655667e+30\n",
      "3.649168137465738e+30\n"
     ]
    },
    {
     "data": {
      "text/plain": [
       "Text(0, 0.5, 'Enclosed Mass ($kg$)')"
      ]
     },
     "execution_count": 6,
     "metadata": {},
     "output_type": "execute_result"
    },
    {
     "data": {
      "image/png": "[encoded data removed]",
      "text/plain": [
       "<Figure size 432x288 with 1 Axes>"
      ]
     },
     "metadata": {
      "needs_background": "light"
     },
     "output_type": "display_data"
    }
   ],
   "source": [
    "Int_mass_Gen, Int_pressure_Gen, Int_radius_Gen = integrate_Gen(1.118*10**34, 0)\n",
    "Int_mass_Spec, Int_pressure_Spec, Int_radius_Spec = integrate_Spec(1.118*10**34, 0)\n",
    "\n",
    "plt.plot(Int_radius_Gen, Int_mass_Gen)\n",
    "plt.plot(Int_radius_Spec, Int_mass_Spec)\n",
    "\n",
    "plt.xlabel(\"Distance From Centre ($m$)\")\n",
    "plt.ylabel(\"Enclosed Mass ($kg$)\")"
   ]
  },
  {
   "cell_type": "code",
   "execution_count": 48,
   "id": "a4e4ae23",
   "metadata": {},
   "outputs": [],
   "source": [
    "def integrate_max_Gen(P, m):\n",
    "    end = False\n",
    "    r = 1\n",
    "    step = 100\n",
    "    Masses = []\n",
    "    Pressures = []\n",
    "    Radii = []\n",
    "    while end == False:\n",
    "        slope_m = dM_dr(P, m, r)\n",
    "        m = m + slope_m * step\n",
    "        slope_P = dP_dr_Gen(P, m, r)\n",
    "        P = P + slope_P * step\n",
    "        if P < 0:\n",
    "            break\n",
    "        Masses = Masses + [m]\n",
    "        Pressures = Pressures + [P]\n",
    "        Radii = Radii + [r]\n",
    "        r = r + step\n",
    "    return m, r\n",
    "\n",
    "def results_Gen(P, m):\n",
    "    M_maxs = []\n",
    "    Radii = []\n",
    "    for i in range(0, len(P)):\n",
    "        M_max, Radius = integrate_max_Gen(P[i], m)\n",
    "        M_maxs = M_maxs + [M_max/(1.989*10**30)]\n",
    "        Radii = Radii + [Radius/1000]\n",
    "    return M_maxs, Radii\n",
    "\n",
    "def integrate_max_Spec(P, m):\n",
    "    end = False\n",
    "    r = 1\n",
    "    step = 100\n",
    "    Masses = []\n",
    "    Pressures = []\n",
    "    Radii = []\n",
    "    while end == False:\n",
    "        slope_m = dM_dr(P, m, r)\n",
    "        m = m + slope_m * step\n",
    "        slope_P = dP_dr_Spec(P, m, r)\n",
    "        P = P + slope_P * step\n",
    "        if P < 0:\n",
    "            break\n",
    "        Masses = Masses + [m]\n",
    "        Pressures = Pressures + [P]\n",
    "        Radii = Radii + [r]\n",
    "        r = r + step\n",
    "    return m, r\n",
    "\n",
    "def results_Spec(P, m):\n",
    "    M_maxs = []\n",
    "    Radii = []\n",
    "    for i in range(0, len(P)):\n",
    "        M_max, Radius = integrate_max_Spec(P[i], m)\n",
    "        M_maxs = M_maxs + [M_max/(1.989*10**30)]\n",
    "        Radii = Radii + [Radius/1000]\n",
    "    return M_maxs, Radii\n",
    "\n",
    "Cero = np.linspace(10**31, 10**32, 101)\n",
    "Uno = np.linspace(2*10**32, 10**33, 101)\n",
    "Dos = np.linspace(10**33, 10**34, 101)\n",
    "Tres = np.linspace(10**34, 10**35, 101)\n",
    "Quatro = np.linspace(10**35, 10**36, 101)\n",
    "Cinco = np.linspace(10**36, 10**37, 101)\n",
    "Siez = np.linspace(10**37, 10**38, 101)\n",
    "\n",
    "P_central = Cero.tolist() + Uno.tolist() + Dos.tolist() + Tres.tolist() + Quatro.tolist() + Cinco.tolist() + Siez.tolist()\n"
   ]
  },
  {
   "cell_type": "code",
   "execution_count": 49,
   "id": "9062d2eb",
   "metadata": {},
   "outputs": [
    {
     "data": {
      "text/plain": [
       "<matplotlib.legend.Legend at 0x196bc3ed910>"
      ]
     },
     "execution_count": 49,
     "metadata": {},
     "output_type": "execute_result"
    },
    {
     "data": {
      "image/png": "[encoded data removed]",
      "text/plain": [
       "<Figure size 432x288 with 1 Axes>"
      ]
     },
     "metadata": {
      "needs_background": "light"
     },
     "output_type": "display_data"
    }
   ],
   "source": [
    "Mass_Gen, Radius_Gen = results_Gen(P_central, 0)\n",
    "Mass_Spec, Radius_Spec = results_Spec(P_central[0:692], 0)\n",
    "\n",
    "plt.plot(Radius_Gen, Mass_Gen, label = 'TOV Corrections')\n",
    "plt.plot(Radius_Spec, Mass_Spec, label = 'No Corrections')\n",
    "plt.xlabel(\"Radius ($km$)\")\n",
    "plt.ylabel(\"Mass ($M_{\\odot}$)\")\n",
    "plt.legend(loc = 'upper right')"
   ]
  },
  {
   "cell_type": "code",
   "execution_count": 53,
   "id": "39bebc05",
   "metadata": {},
   "outputs": [
    {
     "name": "stdout",
     "output_type": "stream",
     "text": [
      "Max Mass (TOV) : 1.1514913289897413 Solar Masses\n",
      "Max Mass (No TOV) : 2.2193453597171118 Solar Masses\n",
      "Central Pressure (TOV) : 1.63e+34 Pa\n",
      "Central Pressure (No TOV) : 1.72e+35 Pa\n"
     ]
    }
   ],
   "source": [
    "Max_Mass_Gen = max(Mass_Gen)\n",
    "Max_Mass_Spec = max(Mass_Spec)\n",
    "\n",
    "print ('Max Mass (TOV) :', Max_Mass_Gen, \"Solar Masses\")\n",
    "print ('Max Mass (No TOV) :', Max_Mass_Spec, \"Solar Masses\")\n",
    "\n",
    "def find_P(m, M, P):\n",
    "    N = 1\n",
    "    for i in range(0, len(m)):\n",
    "        if m[i] == M:\n",
    "            N = i\n",
    "        else:\n",
    "            N = N\n",
    "    return P[N]\n",
    "\n",
    "print ('Central Pressure (TOV) :', find_P(Mass_Gen, Max_Mass_Gen, P_central), 'Pa')\n",
    "print ('Central Pressure (No TOV) :', find_P(Mass_Spec, Max_Mass_Spec, P_central), 'Pa')\n",
    "            "
   ]
  },
  {
   "cell_type": "code",
   "execution_count": null,
   "id": "a2fc93e2",
   "metadata": {},
   "outputs": [],
   "source": []
  }
 ],
 "metadata": {
  "kernelspec": {
   "display_name": "Python 3",
   "language": "python",
   "name": "python3"
  },
  "language_info": {
   "codemirror_mode": {
    "name": "ipython",
    "version": 3
   },
   "file_extension": ".py",
   "mimetype": "text/x-python",
   "name": "python",
   "nbconvert_exporter": "python",
   "pygments_lexer": "ipython3",
   "version": "3.8.8"
  }
 },
 "nbformat": 4,
 "nbformat_minor": 5
}
