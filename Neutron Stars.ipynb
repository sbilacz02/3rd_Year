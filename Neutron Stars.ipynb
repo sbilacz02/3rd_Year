{
 "cells": [
  {
   "cell_type": "code",
   "execution_count": 168,
   "id": "d21424d7",
   "metadata": {},
   "outputs": [
    {
     "name": "stdout",
     "output_type": "stream",
     "text": [
      "5.0247e-19\n"
     ]
    }
   ],
   "source": [
    "import numpy as np\n",
    "import scipy.integrate as sp\n",
    "import matplotlib.pyplot as plt\n",
    "\n",
    "# Define constants\n",
    "c = 3.00*(10**8)\n",
    "h_bar = (6.63*10**-34)/(2*np.pi)\n",
    "m_n = 1.6749*10**(-27)\n",
    "m_e = (9.11*10**-31)\n",
    "G = 6.67*10**-11\n",
    "\n",
    "K_rel = 1/3\n",
    "K_nrel = ((h_bar**2)/(15*np.pi**2*m_n))*(3*np.pi**2/(m_n*c**2))**(5/3)\n",
    "\n",
    "Densities = np.linspace(10**17, 10**19, 40)\n",
    "E_Densities = Densities*c**2\n",
    "\n",
    "# Fermi momentum  for pure neutrons\n",
    "\n",
    "k_F = h_bar*((3*Densities*np.pi**2)/m_n)**(1/3)\n",
    "\n",
    "\n",
    "print(m_n*c)"
   ]
  },
  {
   "cell_type": "code",
   "execution_count": 169,
   "id": "d575dad8",
   "metadata": {},
   "outputs": [
    {
     "name": "stdout",
     "output_type": "stream",
     "text": [
      "[1.1605778980592438e+32, 9.535974797360046e+32, 2.348625979837536e+33, 4.2020906101807247e+33, 6.462224560004255e+33, 9.094986225324276e+33, 1.20755281302393e+34, 1.5384560205506808e+34, 1.9006478421362015e+34, 2.2928282894948966e+34, 2.713890006936893e+34, 3.1628732145768197e+34, 3.63893436054026e+34, 4.141323505573844e+34, 4.669367517792187e+34, 5.22245727387961e+34, 5.8000377067755e+34, 6.401599927664516e+34, 7.02667489290309e+34, 7.6748282436461185e+34, 8.345656050571064e+34, 9.038781267533872e+34, 9.753850747850664e+34, 1.049053271238801e+35, 1.8576923076923075e+35, 1.933846153846154e+35, 2.01e+35, 2.086153846153846e+35, 2.1623076923076922e+35, 2.2384615384615387e+35, 2.3146153846153848e+35, 2.3907692307692305e+35, 2.4669230769230766e+35, 2.5430769230769234e+35, 2.619230769230769e+35, 2.6953846153846152e+35, 2.7715384615384617e+35, 2.8476923076923077e+35, 2.923846153846154e+35, 2.9999999999999995e+35]\n"
     ]
    }
   ],
   "source": [
    "def Central_Pressures(t):\n",
    "    P_Central = []\n",
    "    for i in range (0, len(k_F)):\n",
    "        if k_F[i] > m_n*c:\n",
    "            P_c = K_rel*E_Densities[i]\n",
    "        else:\n",
    "            P_c = K_nrel*(E_Densities[i])**(5/3)\n",
    "        P_Central = P_Central + [P_c]\n",
    "    return P_Central\n",
    "\n",
    "print(Central_Pressures(0))"
   ]
  },
  {
   "cell_type": "code",
   "execution_count": 170,
   "id": "21808689",
   "metadata": {},
   "outputs": [],
   "source": [
    "# dM and dP (Create two sets , Rel and N_Rel)\n",
    "\n",
    "def dM_dr_rel(P, m, r):\n",
    "    dMdr = (12*np.pi*r**2*P)/(c**2)\n",
    "    return dMdr\n",
    "\n",
    "def dM_dr_nrel(P, m, r):\n",
    "    dMdr = 4*np.pi*r**2*P**(3/5)/(c**2*K_nrel**(3/5))\n",
    "    return dMdr\n",
    "\n",
    "def dP_dr_rel(P, m, r):\n",
    "    dPdr = (-3*G*m*P/(c**2*r**2))\n",
    "    return dPdr\n",
    "\n",
    "def dP_dr_nrel(P, m, r):\n",
    "    dPdr = (-G*m*P**(3/5)/(c**2*r**2*K_nrel**(3/5)))*(1+(P**(2/5)*K_nrel**(3/5)))*(1+((4*np.pi*P*r**3)/(m*c**2)))*(1-((2*G*m)/(r*c**2)))**(-1)\n",
    "    return dPdr"
   ]
  },
  {
   "cell_type": "code",
   "execution_count": 172,
   "id": "9a2d293e",
   "metadata": {},
   "outputs": [
    {
     "name": "stdout",
     "output_type": "stream",
     "text": [
      "2.6953169549662438e+35\n",
      "2.6952492913121396e+35\n",
      "2.6951645534666168e+35\n",
      "2.6950591187948434e+35\n",
      "2.694932071398511e+35\n",
      "2.694783046032972e+35\n",
      "2.6946118628123693e+35\n",
      "2.6944184221022733e+35\n",
      "2.6942026649421236e+35\n",
      "2.6939645554067688e+35\n",
      "2.693704071769544e+35\n",
      "2.693421201674588e+35\n",
      "2.6931159393170124e+35\n",
      "2.6927882837055816e+35\n",
      "2.6924382375445783e+35\n",
      "2.6920658064874688e+35\n",
      "2.6916709986230806e+35\n",
      "2.6912538241122936e+35\n",
      "2.690814294925099e+35\n",
      "2.6903524246463376e+35\n",
      "2.6898682283295085e+35\n",
      "2.689361722384904e+35\n",
      "2.6888329244926933e+35\n",
      "2.688281853534435e+35\n",
      "2.6877085295383898e+35\n",
      "2.6871129736353082e+35\n",
      "2.686495208022261e+35\n",
      "2.6858552559327046e+35\n",
      "2.6851931416114337e+35\n",
      "2.6845088902933925e+35\n",
      "2.68380252818556e+35\n",
      "2.6830740824512973e+35\n",
      "2.6823235811966844e+35\n",
      "2.6815510534584698e+35\n",
      "2.680756529193335e+35\n",
      "2.679940039268238e+35\n",
      "2.6791016154516413e+35\n",
      "2.6782412904054724e+35\n",
      "2.6773590976776865e+35\n",
      "2.67645507169533e+35\n",
      "2.675529247758019e+35\n",
      "2.6745816620317624e+35\n",
      "2.6736123515430683e+35\n",
      "2.6726213541732858e+35\n",
      "2.671608708653144e+35\n",
      "2.6705744545574464e+35\n",
      "2.669518632299899e+35\n",
      "2.6684412831280393e+35\n",
      "2.667342449118254e+35\n",
      "2.6662221731708592e+35\n",
      "2.6650804990052298e+35\n",
      "2.6639174711549697e+35\n",
      "2.6627331349631043e+35\n",
      "2.66152753657729e+35\n",
      "2.660300722945031e+35\n",
      "2.6590527418088962e+35\n",
      "2.657783641701728e+35\n",
      "2.6564934719418443e+35\n",
      "2.655182282628217e+35\n",
      "2.6538501246356367e+35\n",
      "2.6524970496098498e+35\n",
      "2.65112310996267e+35\n",
      "2.6497283588670597e+35\n",
      "2.64831285025218e+35\n",
      "2.646876638798408e+35\n",
      "2.645419779932317e+35\n",
      "2.6439423298216225e+35\n",
      "2.642444345370089e+35\n",
      "2.640925884212399e+35\n",
      "2.6393870047089818e+35\n",
      "2.637827765940804e+35\n",
      "2.636248227704119e+35\n",
      "2.634648450505174e+35\n",
      "2.63302849555488e+35\n",
      "2.6313884247634376e+35\n",
      "2.629728300734922e+35\n",
      "2.628048186761829e+35\n",
      "2.626348146819578e+35\n",
      "2.6246282455609762e+35\n",
      "2.6228885483106407e+35\n",
      "2.6211291210593813e+35\n",
      "2.619350030458544e+35\n",
      "2.6175513438143133e+35\n",
      "2.6157331290819782e+35\n",
      "2.6138954548601574e+35\n",
      "2.612038390384987e+35\n",
      "2.6101620055242726e+35\n",
      "2.608266370771601e+35\n",
      "2.606351557240419e+35\n",
      "2.6044176366580746e+35\n",
      "2.6024646813598225e+35\n",
      "2.6004927642827984e+35\n",
      "2.598501958959955e+35\n",
      "2.5964923395139687e+35\n",
      "2.5944639806511115e+35\n",
      "2.592416957655093e+35\n",
      "2.5903513463808687e+35\n",
      "2.588267223248422e+35\n",
      "2.5861646652365135e+35\n",
      "2.5840437498764023e+35\n",
      "(3.6159357538567385e+28, 1000.1)\n"
     ]
    },
    {
     "data": {
      "text/plain": [
       "[<matplotlib.lines.Line2D at 0x1b3d8e0e610>]"
      ]
     },
     "execution_count": 172,
     "metadata": {},
     "output_type": "execute_result"
    },
    {
     "data": {
      "image/png": "[encoded data removed]",
      "text/plain": [
       "<Figure size 432x288 with 1 Axes>"
      ]
     },
     "metadata": {
      "needs_background": "light"
     },
     "output_type": "display_data"
    }
   ],
   "source": [
    "# Integrate\n",
    "\n",
    "def integrate_rel(P, m): # Create Rel and N_Rel versions\n",
    "    end = False\n",
    "    r = 1\n",
    "    step = 10\n",
    "    Masses = []\n",
    "    Pressures = []\n",
    "    while end == False:\n",
    "        slope_m = (dM_dr_rel(P, m, r)) \n",
    "        m = m + slope_m * step\n",
    "        slope_P = (dP_dr_rel(P, m, r))\n",
    "        P = P + slope_P * step\n",
    "        print(P)\n",
    "        if P < 0:\n",
    "            break\n",
    "        Masses = Masses + [m]\n",
    "        Pressures = Pressures + [P]\n",
    "        r = r + step\n",
    "        if r > 1000:\n",
    "            break\n",
    "    return m, r\n",
    "\n",
    "def integrate_nrel(P, m): # Create Rel and N_Rel versions\n",
    "    end = False\n",
    "    r = 1\n",
    "    step = 10\n",
    "    Masses = []\n",
    "    Pressures = []\n",
    "    while end == False:\n",
    "        slope_m = dM_dr_nrel(P, m, r) \n",
    "        m = m + slope_m * step\n",
    "        slope_P = dP_dr_nrel(P, m, r)\n",
    "        P = P + slope_P * step\n",
    "        if P < 0:\n",
    "            break\n",
    "        Masses = Masses + [m]\n",
    "        Pressures = Pressures + [P]\n",
    "        r = r + step\n",
    "    return m, r\n",
    "\n",
    "# Function to loop over all central pressures\n",
    "\n",
    "def results(P, m):\n",
    "    M_maxs = []\n",
    "    Radii = []\n",
    "    for i in range(0, len(P)):\n",
    "        M_max, Radius = integrate_nrel(P[i], m)\n",
    "        M_maxs = M_maxs + [M_max]\n",
    "        Radii = Radii + [Radius]\n",
    "    return M_maxs, Radii\n",
    "\n",
    "# Plot \n",
    "\n",
    "print(integrate_rel(2.6953846153846152e+35, 0))\n",
    "\n",
    "\n",
    "x, y = results(Central_Pressures(0), 0)\n",
    "\n",
    "plt.plot(y, x)"
   ]
  },
  {
   "cell_type": "code",
   "execution_count": 124,
   "id": "683cd8d2",
   "metadata": {},
   "outputs": [
    {
     "ename": "SyntaxError",
     "evalue": "invalid syntax (<ipython-input-124-70be49332da0>, line 4)",
     "output_type": "error",
     "traceback": [
      "\u001b[1;36m  File \u001b[1;32m\"<ipython-input-124-70be49332da0>\"\u001b[1;36m, line \u001b[1;32m4\u001b[0m\n\u001b[1;33m    else\u001b[0m\n\u001b[1;37m        ^\u001b[0m\n\u001b[1;31mSyntaxError\u001b[0m\u001b[1;31m:\u001b[0m invalid syntax\n"
     ]
    }
   ],
   "source": [
    "for i in range(0, len(P)):\n",
    "        if k_F[i] > m_n*c:\n",
    "            M_max, Radius = integrate_rel(P[i], m)\n",
    "        else\n",
    "        \n",
    "*(1+(P**(2/5)*K_nrel**(3/5)))*(1+((4*np.pi*P*r**3)/(m*c**2)))*(1-((2*G*m)/(r*c**2)))**(-1)\n",
    "\n",
    "((h_bar*c)/(12*np.pi**2))*((3*np.pi**2)/(m_n*c**2))**(5/3)\n",
    "\n",
    "*(1+K_rel)*(1+((4*np.pi*P*r**3)/(m*c**2)))*(1-((2*G*m)/(r*c**2)))**(-1)"
   ]
  },
  {
   "cell_type": "code",
   "execution_count": null,
   "id": "262ea253",
   "metadata": {},
   "outputs": [],
   "source": []
  }
 ],
 "metadata": {
  "kernelspec": {
   "display_name": "Python 3",
   "language": "python",
   "name": "python3"
  },
  "language_info": {
   "codemirror_mode": {
    "name": "ipython",
    "version": 3
   },
   "file_extension": ".py",
   "mimetype": "text/x-python",
   "name": "python",
   "nbconvert_exporter": "python",
   "pygments_lexer": "ipython3",
   "version": "3.8.8"
  }
 },
 "nbformat": 4,
 "nbformat_minor": 5
}
