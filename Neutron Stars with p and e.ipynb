{
 "cells": [
  {
   "cell_type": "code",
   "execution_count": 2,
   "id": "7482a21f",
   "metadata": {},
   "outputs": [],
   "source": [
    "import numpy as np\n",
    "import scipy.integrate as sp\n",
    "import matplotlib.pyplot as plt\n",
    "\n",
    "# Define constants\n",
    "rho = 1\n",
    "c = 3.00*(10**8)\n",
    "h_bar = (6.63*10**-34)/(2*np.pi)\n",
    "epsilon = rho*(c**2)\n",
    "m_N = (((1.6749*10**-27 * 6) + (1.6726*10**-27 * 6))/12)\n",
    "m_n = (1.6749*10**-27)\n",
    "m_p = (1.6726*10**-27)\n",
    "m_e = (9.11*10**-31)\n",
    "G = 6.67*10**-11\n",
    "\n",
    "k_F_div1 = np.linspace(0.001, 1, 900) \n",
    "k_F_div2 = np.linspace(1.01, 10, 900)\n",
    "\n",
    "k_F_div = k_F_div1.tolist() + k_F_div2.tolist()\n",
    "\n",
    "k_Fs = np.array(k_F_div)*(m_n*c)\n",
    "k_Fs_p = ((k_Fs**2+m_n**2-m_e**2)**2-2*m_p**2*(k_Fs**2+m_n**2+m_e**2)+m_e**4)**0.5/(2*(k_Fs**2+m_n**2)**0.5)     # Fermi momentum for both protons and electrons\n",
    "\n",
    "k_F_div_p = k_Fs_p/(m_p*c)\n",
    "k_F_div_e = k_Fs_p/(m_e*c)\n",
    "\n",
    "Densities = (m_n/(3*np.pi**2))*(k_Fs/h_bar)**3\n"
   ]
  },
  {
   "cell_type": "code",
   "execution_count": 3,
   "id": "a6922d58",
   "metadata": {},
   "outputs": [],
   "source": [
    "# Integrate for pressure for neutrons\n",
    "\n",
    "def integrand_P(u):\n",
    "    return (u**2 + 1)**(-1/2)*u**4\n",
    "\n",
    "def integrate_P(x):\n",
    "    I = sp.quad(integrand_P, 0, x)\n",
    "    return I[0]*((m_n**4*c**5)/(3*np.pi**2*h_bar**3))\n",
    "\n",
    "# For all k_F\n",
    "    \n",
    "def results_P(k_F):\n",
    "    Results = []\n",
    "    for i in range (0, len(k_F)):\n",
    "        Results = Results + [integrate_P(k_F[i])]\n",
    "    return Results\n",
    "        \n",
    "Pressures = np.array(results_P(k_F_div))"
   ]
  },
  {
   "cell_type": "code",
   "execution_count": 4,
   "id": "5dc68370",
   "metadata": {},
   "outputs": [],
   "source": [
    "# Integrate for pressure for protons\n",
    "\n",
    "def integrate_P_p(x):\n",
    "    I = sp.quad(integrand_P, 0, x)\n",
    "    return I[0]*((m_p**4*c**5)/(3*np.pi**2*h_bar**3))\n",
    "\n",
    "# For all k_F\n",
    "    \n",
    "def results_P_p(k_F):\n",
    "    Results = []\n",
    "    for i in range (0, len(k_F)):\n",
    "        Results = Results + [integrate_P_p(k_F[i])]\n",
    "    return Results\n",
    "        \n",
    "Pressures_p = np.array(results_P_p(k_F_div_p))"
   ]
  },
  {
   "cell_type": "code",
   "execution_count": 5,
   "id": "af2680ba",
   "metadata": {},
   "outputs": [],
   "source": [
    "# Integrate for pressure for electrons\n",
    "\n",
    "def integrate_P_e(x):\n",
    "    I = sp.quad(integrand_P, 0, x)\n",
    "    return I[0]*((m_e**4*c**5)/(3*np.pi**2*h_bar**3))\n",
    "\n",
    "# For all k_F\n",
    "    \n",
    "def results_P_e(k_F):\n",
    "    Results = []\n",
    "    for i in range (0, len(k_F)):\n",
    "        Results = Results + [integrate_P_e(k_F[i])]\n",
    "    return Results\n",
    "        \n",
    "Pressures_e = np.array(results_P_e(k_F_div_e))"
   ]
  },
  {
   "cell_type": "code",
   "execution_count": 6,
   "id": "9efece27",
   "metadata": {},
   "outputs": [
    {
     "name": "stdout",
     "output_type": "stream",
     "text": [
      "[5.12746605e+21 1.45840369e+23 8.82463373e+23 ... 9.22491571e+37\n",
      " 9.25836126e+37 9.29189732e+37]\n"
     ]
    }
   ],
   "source": [
    "Total_Pressures = Pressures + Pressures_p + Pressures_e\n",
    "print (Total_Pressures)"
   ]
  },
  {
   "cell_type": "code",
   "execution_count": 7,
   "id": "23e4a58f",
   "metadata": {},
   "outputs": [],
   "source": [
    "# Integrate for energy density\n",
    "\n",
    "def integrand_E(u):\n",
    "    return (u**2 + 1)**(1/2)*u**2\n",
    "\n",
    "def integrate_E(x):\n",
    "    I = sp.quad(integrand_E, 0, x)\n",
    "    return I[0]*((m_n**4*c**5)/(np.pi**2*h_bar**3))\n",
    "\n",
    "# For all k_F\n",
    "    \n",
    "def results_E(k_F):\n",
    "    Results = []\n",
    "    for i in range (0, len(k_F)):\n",
    "        Results = Results + [integrate_E(k_F[i])]\n",
    "    return Results\n",
    "\n",
    "E_D = results_E(k_F_div)\n",
    "\n",
    "E_Densities = np.array(E_D)"
   ]
  },
  {
   "cell_type": "code",
   "execution_count": 8,
   "id": "3706482a",
   "metadata": {},
   "outputs": [],
   "source": [
    "# Integrate for energy density for protons\n",
    "\n",
    "def integrate_E_p(x):\n",
    "    I = sp.quad(integrand_E, 0, x)\n",
    "    return I[0]*((m_p**4*c**5)/(np.pi**2*h_bar**3))\n",
    "\n",
    "# For all k_F\n",
    "    \n",
    "def results_E_p(k_F):\n",
    "    Results = []\n",
    "    for i in range (0, len(k_F)):\n",
    "        Results = Results + [integrate_E_p(k_F[i])]\n",
    "    return Results\n",
    "\n",
    "E_D_p = results_E_p(k_F_div_p)\n",
    "\n",
    "E_Densities_p = np.array(E_D_p)"
   ]
  },
  {
   "cell_type": "code",
   "execution_count": 9,
   "id": "1c41df2a",
   "metadata": {},
   "outputs": [],
   "source": [
    "# Integrate for energy density for electrons\n",
    "\n",
    "def integrate_E_e(x):\n",
    "    I = sp.quad(integrand_E, 0, x)\n",
    "    return I[0]*((m_e**4*c**5)/(np.pi**2*h_bar**3))\n",
    "\n",
    "# For all k_F\n",
    "    \n",
    "def results_E_e(k_F):\n",
    "    Results = []\n",
    "    for i in range (0, len(k_F)):\n",
    "        Results = Results + [integrate_E_e(k_F[i])]\n",
    "    return Results\n",
    "\n",
    "E_D_e = results_E_e(k_F_div_e)\n",
    "\n",
    "E_Densities_e = np.array(E_D_e)"
   ]
  },
  {
   "cell_type": "code",
   "execution_count": 10,
   "id": "01172193",
   "metadata": {},
   "outputs": [
    {
     "name": "stdout",
     "output_type": "stream",
     "text": [
      "[6.18384122e+26 5.81946335e+27 2.06946507e+28 ... 2.99957170e+38\n",
      " 3.01004834e+38 3.02055254e+38]\n"
     ]
    }
   ],
   "source": [
    "Total_E_Densities = E_Densities + E_Densities_p + E_Densities_e\n",
    "print (Total_E_Densities)"
   ]
  },
  {
   "cell_type": "code",
   "execution_count": 11,
   "id": "c521f59b",
   "metadata": {},
   "outputs": [
    {
     "name": "stdout",
     "output_type": "stream",
     "text": [
      "[4.38112906e+14 2.93029335e+00]\n",
      "[3.62262132e+11 3.06681213e-04]\n",
      "[4.84078524e+14 2.93416350e+00]\n",
      "[2.98372333e+11 2.41239412e-04]\n"
     ]
    },
    {
     "data": {
      "image/png": "[encoded data removed]",
      "text/plain": [
       "<Figure size 432x288 with 2 Axes>"
      ]
     },
     "metadata": {
      "needs_background": "light"
     },
     "output_type": "display_data"
    }
   ],
   "source": [
    "# Plot\n",
    "from scipy.optimize import curve_fit\n",
    "\n",
    "def func(x, a, b):\n",
    "    return a*x**(3/5) + b*x\n",
    "\n",
    "plt.figure(1).add_axes((0,0,1,1))\n",
    "plt.plot(Total_Pressures/10**39, Total_E_Densities/10**39, label = 'n, p, e', color = 'red')\n",
    "plt.plot(Pressures/10**39, E_Densities/10**39, label = 'Neutrons', color = 'blue')\n",
    "plt.xlim([-0.09, 1.59])\n",
    "\n",
    "plt.ylabel(\"ε ($10^{39} J m^{-3}$)\")\n",
    "\n",
    "popt, pcov = curve_fit(func, Pressures, E_Densities, p0 = [10**15, 10])\n",
    "popt_total, pcov_total = curve_fit(func, Total_Pressures, Total_E_Densities, p0 = [10**15, 10])\n",
    "\n",
    "print(popt)\n",
    "\n",
    "plt.plot(Total_Pressures/10**39, func(Total_Pressures, *popt_total)/10**39, color = 'red')\n",
    "plt.plot(Pressures/10**39, func(Pressures, *popt)/10**39, color = 'blue')\n",
    "\n",
    "plt.legend(loc = 'upper left')\n",
    "\n",
    "A_NR_tot, A_R_tot = popt_total\n",
    "A_NR, A_R = popt\n",
    "perr = np.sqrt(np.diag(pcov))\n",
    "perr_total = np.sqrt(np.diag(pcov_total))  # Standard error\n",
    "\n",
    "Fit_values = A_NR*Pressures**(3/5)+A_R*Pressures\n",
    "Residuals = E_Densities-np.array(Fit_values)\n",
    "\n",
    "Total_Fit_values = A_NR_tot*Total_Pressures**(3/5)+A_R_tot*Total_Pressures\n",
    "Total_Residuals = Total_E_Densities-np.array(Total_Fit_values)\n",
    "\n",
    "plt.figure(1).add_axes((0,-0.25,1,0.25))\n",
    "plt.plot(np.linspace(-2.5, 55, len(Pressures)), np.linspace(0,0,len(Pressures)), color = 'black', linewidth = 1.0, linestyle = 'dashed')\n",
    "plt.scatter(Total_Pressures/10**39, Total_Residuals/10**39, s = 5, color = 'red')\n",
    "plt.scatter(Pressures/10**39, Residuals/10**39, s = 5, color = 'blue')\n",
    "plt.xlabel(\"Pressure ($10^{39}$ $Pa$)\")\n",
    "plt.ylabel(\"Residuals\")\n",
    "plt.gca().set_ylim([-0.0016,0.0016])\n",
    "plt.gca().set_xlim([-0.09,1.59])\n",
    "\n",
    "print(perr)\n",
    "print(popt_total)\n",
    "print(perr_total)\n"
   ]
  },
  {
   "cell_type": "code",
   "execution_count": 12,
   "id": "3fe66f21",
   "metadata": {},
   "outputs": [
    {
     "data": {
      "text/plain": [
       "Text(0.5, 0, 'Residuals')"
      ]
     },
     "execution_count": 12,
     "metadata": {},
     "output_type": "execute_result"
    },
    {
     "data": {
      "image/png": "[encoded data removed]",
      "text/plain": [
       "<Figure size 432x288 with 1 Axes>"
      ]
     },
     "metadata": {
      "needs_background": "light"
     },
     "output_type": "display_data"
    }
   ],
   "source": [
    "plt.figure(1).add_axes((0,0,0.65,0.8))\n",
    "plt.hist(Residuals/10**39, bins = 30, color = 'blue', histtype='bar', ec='black')\n",
    "plt.xlim([-0.00140, 0.00140])\n",
    "plt.ylabel(\"Frequency\")\n",
    "plt.xlabel(\"Residuals\")"
   ]
  },
  {
   "cell_type": "code",
   "execution_count": 13,
   "id": "616273bd",
   "metadata": {},
   "outputs": [
    {
     "data": {
      "text/plain": [
       "Text(0.5, 0, 'Residuals')"
      ]
     },
     "execution_count": 13,
     "metadata": {},
     "output_type": "execute_result"
    },
    {
     "data": {
      "image/png": "[encoded data removed]",
      "text/plain": [
       "<Figure size 432x288 with 1 Axes>"
      ]
     },
     "metadata": {
      "needs_background": "light"
     },
     "output_type": "display_data"
    }
   ],
   "source": [
    "plt.figure(1).add_axes((0,0,0.65,0.8))\n",
    "plt.hist(Total_Residuals/10**39, bins = 30, color = 'red', histtype='bar', ec='black')\n",
    "plt.xlim([-0.00149, 0.00149])\n",
    "plt.ylabel(\"Frequency\")\n",
    "plt.xlabel(\"Residuals\")"
   ]
  },
  {
   "cell_type": "code",
   "execution_count": 14,
   "id": "667d84d4",
   "metadata": {},
   "outputs": [
    {
     "name": "stdout",
     "output_type": "stream",
     "text": [
      "0.0007570056714145112\n",
      "0.0006263203693616464\n"
     ]
    }
   ],
   "source": [
    "max_residual = max(Residuals)\n",
    "Tot_max_residual = max(Total_Residuals)\n",
    "\n",
    "def find_P(Residuals, Max, E_Densities):\n",
    "    N = 1\n",
    "    for i in range(0, len(Residuals)):\n",
    "        if Residuals[i] == Max:\n",
    "            N = i\n",
    "        else:\n",
    "            N = N\n",
    "    return E_Densities[N]\n",
    "\n",
    "E = find_P(Residuals, max(Residuals), E_Densities)\n",
    "Tot_E = find_P(Total_Residuals, max(Total_Residuals), Total_E_Densities)\n",
    "\n",
    "print(max_residual/E)\n",
    "print(Tot_max_residual/Tot_E)"
   ]
  },
  {
   "cell_type": "code",
   "execution_count": 15,
   "id": "5882ef48",
   "metadata": {},
   "outputs": [],
   "source": [
    "def dM_dr(P, m, r):\n",
    "    dMdr = (4*np.pi*r**2*(A_NR*P**(3/5) + A_R*P))/(c**2)\n",
    "    return dMdr\n",
    "\n",
    "def dM_dr_npe(P, m, r):\n",
    "    dMdr = (4*np.pi*r**2*(A_NR_tot*P**(3/5) + A_R_tot*P))/(c**2)\n",
    "    return dMdr\n",
    "\n",
    "def dP_dr_Gen(P, m, r):\n",
    "    dPdr = (-(G*(A_NR*P**(3/5) + A_R*P)*m)/(c**2*r**2))*(1+(P/(A_NR*P**(3/5) + A_R*P)))*(1+(4*np.pi*r**3*P)/(m*c**2))*(1-(2*G*m)/(c**2*r))**(-1)\n",
    "    return dPdr\n",
    "\n",
    "def dP_dr_cos(P, m, r, A):\n",
    "    dPdr = -(((A_NR_tot*P**(3/5) + A_R_tot*P)+P)/c**2)*(G*(m+(4*np.pi*r**3*P)/c**2)-(c**2*A*r**3)/3)*(r**2*(1-(2*G*m)/(c**2*r)))**(-1)\n",
    "    return dPdr\n",
    "\n",
    "def dP_dr_npe(P, m, r):\n",
    "    dPdr = (-(G*(A_NR_tot*P**(3/5) + A_R_tot*P)*m)/(c**2*r**2))*(1+(P/(A_NR_tot*P**(3/5) + A_R_tot*P)))*(1+(4*np.pi*r**3*P)/(m*c**2))*(1-(2*G*m)/(c**2*r))**(-1)\n",
    "    return dPdr\n",
    "\n",
    "def dP_dr_Spec(P, m, r):\n",
    "    dPdr = -(G*(A_NR*P**(3/5) + A_R*P)*m)/(c**2*r**2)\n",
    "    return dPdr\n",
    "\n",
    "def integrate_Gen(P, m):\n",
    "    end = False\n",
    "    r = 1\n",
    "    step = 50\n",
    "    Masses = []\n",
    "    Pressures = []\n",
    "    Radii = []\n",
    "    while end == False:\n",
    "        slope_m = dM_dr(P, m, r)\n",
    "        m = m + slope_m * step\n",
    "        slope_P = dP_dr_Gen(P, m, r)\n",
    "        P = P + slope_P * step\n",
    "        if P < 0:\n",
    "            break\n",
    "        Masses = Masses + [m]\n",
    "        Pressures = Pressures + [P]\n",
    "        Radii = Radii + [r]\n",
    "        r = r + step\n",
    "    return Masses, Pressures, Radii\n",
    "\n",
    "def integrate_Spec(P, m):\n",
    "    end = False\n",
    "    r = 1\n",
    "    step = 50\n",
    "    Masses = []\n",
    "    Pressures = []\n",
    "    Radii = []\n",
    "    while end == False:\n",
    "        slope_m = dM_dr(P, m, r)\n",
    "        m = m + slope_m * step\n",
    "        slope_P = dP_dr_Spec(P, m, r)\n",
    "        P = P + slope_P * step\n",
    "        if P < 0:\n",
    "            break\n",
    "        Masses = Masses + [m]\n",
    "        Pressures = Pressures + [P]\n",
    "        Radii = Radii + [r]\n",
    "        r = r + step\n",
    "    return Masses, Pressures, Radii\n",
    "\n",
    "def integrate_npe(P, m):\n",
    "    end = False\n",
    "    r = 1\n",
    "    step = 50\n",
    "    Masses = []\n",
    "    Pressures = []\n",
    "    Radii = []\n",
    "    while end == False:\n",
    "        slope_m = dM_dr_npe(P, m, r)\n",
    "        m = m + slope_m * step\n",
    "        slope_P = dP_dr_npe(P, m, r)\n",
    "        P = P + slope_P * step\n",
    "        if P < 0:\n",
    "            break\n",
    "        Masses = Masses + [m]\n",
    "        Pressures = Pressures + [P]\n",
    "        Radii = Radii + [r]\n",
    "        r = r + step\n",
    "    return Masses, Pressures, Radii\n",
    "\n",
    "def integrate_cos(P, m, A):\n",
    "    end = False\n",
    "    r = 1\n",
    "    step = 50\n",
    "    Masses = []\n",
    "    Pressures = []\n",
    "    Radii = []\n",
    "    while end == False:\n",
    "        slope_m = dM_dr_npe(P, m, r)\n",
    "        m = m + slope_m * step\n",
    "        slope_P = dP_dr_cos(P, m, r, A)\n",
    "        P = P + slope_P * step\n",
    "        if P < 0:\n",
    "            break\n",
    "        Masses = Masses + [m]\n",
    "        Pressures = Pressures + [P]\n",
    "        Radii = Radii + [r]\n",
    "        r = r + step\n",
    "    print (m)\n",
    "    return Masses, Pressures, Radii\n",
    "\n"
   ]
  },
  {
   "cell_type": "code",
   "execution_count": 16,
   "id": "4e81c68a",
   "metadata": {},
   "outputs": [
    {
     "name": "stdout",
     "output_type": "stream",
     "text": [
      "1.561863250373847e+30\n"
     ]
    },
    {
     "data": {
      "text/plain": [
       "<matplotlib.legend.Legend at 0x2ca738a8c70>"
      ]
     },
     "execution_count": 16,
     "metadata": {},
     "output_type": "execute_result"
    },
    {
     "data": {
      "image/png": "[encoded data removed]",
      "text/plain": [
       "<Figure size 432x288 with 1 Axes>"
      ]
     },
     "metadata": {
      "needs_background": "light"
     },
     "output_type": "display_data"
    }
   ],
   "source": [
    "Int_mass_Gen, Int_pressure_Gen, Int_radius_Gen = integrate_Gen(1.118*10**34, 0)\n",
    "Int_mass_Spec, Int_pressure_Spec, Int_radius_Spec = integrate_Spec(1.118*10**34, 0)\n",
    "Int_mass_npe, Int_pressure_npe, Int_radius_npe = integrate_npe(1.118*10**34, 0)\n",
    "Int_mass_cos, Int_pressure_cos, Int_radius_cos = integrate_cos(10**34, 0, 5*10**-10)\n",
    "\n",
    "plt.plot(Int_radius_Gen, Int_mass_Gen, label = 'TOV corrections')\n",
    "plt.plot(Int_radius_Spec, Int_mass_Spec, label = 'No corrections')\n",
    "plt.plot(Int_radius_npe, Int_mass_npe, label = 'n, p, e')\n",
    "plt.plot(Int_radius_cos, Int_mass_cos, label = 'CC')\n",
    "\n",
    "plt.xlabel(\"Distance From Centre ($m$)\")\n",
    "plt.ylabel(\"Enclosed Mass ($kg$)\")\n",
    "plt.legend(loc = 'upper left')"
   ]
  },
  {
   "cell_type": "code",
   "execution_count": 17,
   "id": "21dceb1a",
   "metadata": {},
   "outputs": [],
   "source": [
    "def integrate_max_Gen(P, m):\n",
    "    end = False\n",
    "    r = 1\n",
    "    step = 50\n",
    "    Masses = []\n",
    "    Pressures = []\n",
    "    Radii = []\n",
    "    while end == False:\n",
    "        slope_m = dM_dr(P, m, r)\n",
    "        m = m + slope_m * step\n",
    "        slope_P = dP_dr_Gen(P, m, r)\n",
    "        P = P + slope_P * step\n",
    "        if P < 0:\n",
    "            break\n",
    "        Masses = Masses + [m]\n",
    "        Pressures = Pressures + [P]\n",
    "        Radii = Radii + [r]\n",
    "        r = r + step\n",
    "    return m, r\n",
    "\n",
    "def results_Gen(P, m):\n",
    "    M_maxs = []\n",
    "    Radii = []\n",
    "    for i in range(0, len(P)):\n",
    "        M_max, Radius = integrate_max_Gen(P[i], m)\n",
    "        M_maxs = M_maxs + [M_max/(1.989*10**30)]\n",
    "        Radii = Radii + [Radius/1000]\n",
    "    return M_maxs, Radii\n",
    "\n",
    "def integrate_max_Spec(P, m):\n",
    "    end = False\n",
    "    r = 1\n",
    "    step = 50\n",
    "    Masses = []\n",
    "    Pressures = []\n",
    "    Radii = []\n",
    "    while end == False:\n",
    "        slope_m = dM_dr(P, m, r)\n",
    "        m = m + slope_m * step\n",
    "        slope_P = dP_dr_Spec(P, m, r)\n",
    "        P = P + slope_P * step\n",
    "        if P < 0:\n",
    "            break\n",
    "        Masses = Masses + [m]\n",
    "        Pressures = Pressures + [P]\n",
    "        Radii = Radii + [r]\n",
    "        r = r + step\n",
    "    return m, r\n",
    "\n",
    "def results_Spec(P, m):\n",
    "    M_maxs = []\n",
    "    Radii = []\n",
    "    for i in range(0, len(P)):\n",
    "        M_max, Radius = integrate_max_Spec(P[i], m)\n",
    "        M_maxs = M_maxs + [M_max/(1.989*10**30)]\n",
    "        Radii = Radii + [Radius/1000]\n",
    "    return M_maxs, Radii\n",
    "\n",
    "def integrate_max_npe(P, m):\n",
    "    end = False\n",
    "    r = 1\n",
    "    step = 50\n",
    "    Masses = []\n",
    "    Pressures = []\n",
    "    Radii = []\n",
    "    while end == False:\n",
    "        slope_m = dM_dr_npe(P, m, r)\n",
    "        m = m + slope_m * step\n",
    "        slope_P = dP_dr_npe(P, m, r)\n",
    "        P = P + slope_P * step\n",
    "        if P < 0:\n",
    "            break\n",
    "        Masses = Masses + [m]\n",
    "        Pressures = Pressures + [P]\n",
    "        Radii = Radii + [r]\n",
    "        r = r + step\n",
    "    return m, r\n",
    "\n",
    "def results_npe(P, m):\n",
    "    M_maxs = []\n",
    "    Radii = []\n",
    "    for i in range(0, len(P)):\n",
    "        M_max, Radius = integrate_max_npe(P[i], m)\n",
    "        M_maxs = M_maxs + [M_max/(1.989*10**30)]\n",
    "        Radii = Radii + [Radius/1000]\n",
    "    return M_maxs, Radii\n",
    "\n",
    "def integrate_max_cos(P, m, A):\n",
    "    end = False\n",
    "    r = 1\n",
    "    step = 50\n",
    "    Masses = []\n",
    "    Pressures = []\n",
    "    Radii = []\n",
    "    while end == False:\n",
    "        slope_m = dM_dr_npe(P, m, r)\n",
    "        m = m + slope_m * step\n",
    "        slope_P = dP_dr_cos(P, m, r, A)\n",
    "        P = P + slope_P * step\n",
    "        if P < 0:\n",
    "            break\n",
    "        Masses = Masses + [m]\n",
    "        Pressures = Pressures + [P]\n",
    "        Radii = Radii + [r]\n",
    "        r = r + step\n",
    "    return m, r\n",
    "\n",
    "def results_cos(P, m, A):\n",
    "    M_maxs = []\n",
    "    Radii = []\n",
    "    B = A\n",
    "    for i in range(0, len(P)):\n",
    "        M_max, Radius = integrate_max_cos(P[i], m, B)\n",
    "        M_maxs = M_maxs + [M_max/(1.989*10**30)]\n",
    "        Radii = Radii + [Radius/1000]\n",
    "    return M_maxs, Radii\n",
    "\n",
    "Cero = np.linspace(10**31, 10**32, 101)\n",
    "Uno = np.linspace(2*10**32, 10**33, 101)\n",
    "Dos = np.linspace(10**33, 10**34, 101)\n",
    "Tres = np.linspace(10**34, 10**35, 101)\n",
    "Quatro = np.linspace(10**35, 10**36, 101)\n",
    "Cinco = np.linspace(10**36, 10**37, 101)\n",
    "Siez = np.linspace(10**37, 10**38, 101)\n",
    "\n",
    "P_central = Cero.tolist() + Uno.tolist() + Dos.tolist() + Tres.tolist() + Quatro.tolist() + Cinco.tolist() + Siez.tolist()\n",
    "P_central2 = Uno.tolist() + Dos.tolist() + Tres.tolist() + Quatro.tolist() + Cinco.tolist() + Siez.tolist()"
   ]
  },
  {
   "cell_type": "code",
   "execution_count": 18,
   "id": "6490c910",
   "metadata": {},
   "outputs": [
    {
     "data": {
      "text/plain": [
       "(0.35, 2.4)"
      ]
     },
     "execution_count": 18,
     "metadata": {},
     "output_type": "execute_result"
    },
    {
     "data": {
      "image/png": "[encoded data removed]",
      "text/plain": [
       "<Figure size 432x288 with 1 Axes>"
      ]
     },
     "metadata": {
      "needs_background": "light"
     },
     "output_type": "display_data"
    }
   ],
   "source": [
    "Mass_Gen, Radius_Gen = results_Gen(P_central2, 0)\n",
    "Mass_Spec, Radius_Spec = results_Spec(P_central2, 0)\n",
    "Mass_npe, Radius_npe = results_npe(P_central2, 0)\n",
    "Mass_cos, Radius_cos = results_cos(P_central2, 0, -(10**-9))\n",
    "\n",
    "plt.figure(1).add_axes((0,0,1,1))\n",
    "plt.plot(Radius_Spec, Mass_Spec, label = 'No Corrections')\n",
    "plt.plot(Radius_Gen, Mass_Gen, label = 'TOV Corrections')\n",
    "plt.plot(Radius_npe, Mass_npe, label = 'n, p, e')\n",
    "plt.plot(Radius_cos, Mass_cos, label = '$\\Lambda$ = 1.000 x 10$^{-9}$ $m^{-2}$')\n",
    "\n",
    "plt.xlabel(\"Radius ($km$)\")\n",
    "plt.ylabel(\"Mass ($M_{\\odot}$)\")\n",
    "plt.legend(loc = 'upper right')\n",
    "plt.ylim([0.35,2.4])"
   ]
  },
  {
   "cell_type": "code",
   "execution_count": 19,
   "id": "aab1c75b",
   "metadata": {},
   "outputs": [
    {
     "name": "stdout",
     "output_type": "stream",
     "text": [
      "Max Mass (TOV) : 0.8323025904757653 Solar Masses\n",
      "Max Mass (No TOV) : 1.816204087505694 Solar Masses\n",
      "Max Mass (n, p, e) : 0.7318219676368183 Solar Masses\n",
      "Central Pressure (TOV) : 11.251 Pa\n",
      "Central Pressure (No TOV) : 8.951 Pa\n",
      "Central Pressure (No TOV) : 9.951 Pa\n"
     ]
    }
   ],
   "source": [
    "Max_Mass_Gen = max(Mass_Gen)\n",
    "Max_Mass_Spec = max(Mass_Spec)\n",
    "Max_Mass_npe = max(Mass_npe)\n",
    "\n",
    "print ('Max Mass (TOV) :', Max_Mass_Gen, \"Solar Masses\")\n",
    "print ('Max Mass (No TOV) :', Max_Mass_Spec, \"Solar Masses\")\n",
    "print ('Max Mass (n, p, e) :', Max_Mass_npe, \"Solar Masses\")\n",
    "\n",
    "def find_P(m, M, R):\n",
    "    N = 1\n",
    "    for i in range(0, len(m)):\n",
    "        if m[i] == M:\n",
    "            N = i\n",
    "        else:\n",
    "            N = N\n",
    "    return R[N]\n",
    "\n",
    "print ('Central Pressure (TOV) :', find_P(Mass_Gen, Max_Mass_Gen, Radius_Gen), 'Pa')\n",
    "print ('Central Pressure (No TOV) :', find_P(Mass_Spec, Max_Mass_Spec, Radius_Spec), 'Pa')\n",
    "print ('Central Pressure (No TOV) :', find_P(Mass_npe, Max_Mass_npe, Radius_npe), 'Pa')"
   ]
  },
  {
   "cell_type": "code",
   "execution_count": 126,
   "id": "e4cecc1a",
   "metadata": {},
   "outputs": [
    {
     "ename": "KeyboardInterrupt",
     "evalue": "",
     "output_type": "error",
     "traceback": [
      "\u001b[1;31m---------------------------------------------------------------------------\u001b[0m",
      "\u001b[1;31mKeyboardInterrupt\u001b[0m                         Traceback (most recent call last)",
      "\u001b[1;32m<ipython-input-126-b46c0e6c200b>\u001b[0m in \u001b[0;36m<module>\u001b[1;34m\u001b[0m\n\u001b[0;32m     20\u001b[0m     \u001b[1;32mreturn\u001b[0m \u001b[0mm\u001b[0m\u001b[1;33m,\u001b[0m \u001b[0mr\u001b[0m\u001b[1;33m\u001b[0m\u001b[1;33m\u001b[0m\u001b[0m\n\u001b[0;32m     21\u001b[0m \u001b[1;33m\u001b[0m\u001b[0m\n\u001b[1;32m---> 22\u001b[1;33m \u001b[0mMass_cos\u001b[0m\u001b[1;33m,\u001b[0m \u001b[0mRadius_cos\u001b[0m \u001b[1;33m=\u001b[0m \u001b[0mresults_cos\u001b[0m\u001b[1;33m(\u001b[0m\u001b[0mDos\u001b[0m\u001b[1;33m[\u001b[0m\u001b[1;36m20\u001b[0m\u001b[1;33m:\u001b[0m\u001b[1;33m-\u001b[0m\u001b[1;36m1\u001b[0m\u001b[1;33m]\u001b[0m\u001b[1;33m,\u001b[0m \u001b[1;36m0\u001b[0m\u001b[1;33m,\u001b[0m \u001b[1;36m5\u001b[0m\u001b[1;33m*\u001b[0m\u001b[1;36m10\u001b[0m\u001b[1;33m**\u001b[0m\u001b[1;33m-\u001b[0m\u001b[1;36m10\u001b[0m\u001b[1;33m)\u001b[0m\u001b[1;33m\u001b[0m\u001b[1;33m\u001b[0m\u001b[0m\n\u001b[0m",
      "\u001b[1;32m<ipython-input-123-0f1305841884>\u001b[0m in \u001b[0;36mresults_cos\u001b[1;34m(P, m, A)\u001b[0m\n\u001b[0;32m    111\u001b[0m     \u001b[0mB\u001b[0m \u001b[1;33m=\u001b[0m \u001b[0mA\u001b[0m\u001b[1;33m\u001b[0m\u001b[1;33m\u001b[0m\u001b[0m\n\u001b[0;32m    112\u001b[0m     \u001b[1;32mfor\u001b[0m \u001b[0mi\u001b[0m \u001b[1;32min\u001b[0m \u001b[0mrange\u001b[0m\u001b[1;33m(\u001b[0m\u001b[1;36m0\u001b[0m\u001b[1;33m,\u001b[0m \u001b[0mlen\u001b[0m\u001b[1;33m(\u001b[0m\u001b[0mP\u001b[0m\u001b[1;33m)\u001b[0m\u001b[1;33m)\u001b[0m\u001b[1;33m:\u001b[0m\u001b[1;33m\u001b[0m\u001b[1;33m\u001b[0m\u001b[0m\n\u001b[1;32m--> 113\u001b[1;33m         \u001b[0mM_max\u001b[0m\u001b[1;33m,\u001b[0m \u001b[0mRadius\u001b[0m \u001b[1;33m=\u001b[0m \u001b[0mintegrate_max_cos\u001b[0m\u001b[1;33m(\u001b[0m\u001b[0mP\u001b[0m\u001b[1;33m[\u001b[0m\u001b[0mi\u001b[0m\u001b[1;33m]\u001b[0m\u001b[1;33m,\u001b[0m \u001b[0mm\u001b[0m\u001b[1;33m,\u001b[0m \u001b[0mB\u001b[0m\u001b[1;33m)\u001b[0m\u001b[1;33m\u001b[0m\u001b[1;33m\u001b[0m\u001b[0m\n\u001b[0m\u001b[0;32m    114\u001b[0m         \u001b[0mM_maxs\u001b[0m \u001b[1;33m=\u001b[0m \u001b[0mM_maxs\u001b[0m \u001b[1;33m+\u001b[0m \u001b[1;33m[\u001b[0m\u001b[0mM_max\u001b[0m\u001b[1;33m/\u001b[0m\u001b[1;33m(\u001b[0m\u001b[1;36m1.989\u001b[0m\u001b[1;33m*\u001b[0m\u001b[1;36m10\u001b[0m\u001b[1;33m**\u001b[0m\u001b[1;36m30\u001b[0m\u001b[1;33m)\u001b[0m\u001b[1;33m]\u001b[0m\u001b[1;33m\u001b[0m\u001b[1;33m\u001b[0m\u001b[0m\n\u001b[0;32m    115\u001b[0m         \u001b[0mRadii\u001b[0m \u001b[1;33m=\u001b[0m \u001b[0mRadii\u001b[0m \u001b[1;33m+\u001b[0m \u001b[1;33m[\u001b[0m\u001b[0mRadius\u001b[0m\u001b[1;33m/\u001b[0m\u001b[1;36m1000\u001b[0m\u001b[1;33m]\u001b[0m\u001b[1;33m\u001b[0m\u001b[1;33m\u001b[0m\u001b[0m\n",
      "\u001b[1;32m<ipython-input-123-0f1305841884>\u001b[0m in \u001b[0;36mintegrate_max_cos\u001b[1;34m(P, m, A)\u001b[0m\n\u001b[0;32m    102\u001b[0m         \u001b[0mMasses\u001b[0m \u001b[1;33m=\u001b[0m \u001b[0mMasses\u001b[0m \u001b[1;33m+\u001b[0m \u001b[1;33m[\u001b[0m\u001b[0mm\u001b[0m\u001b[1;33m]\u001b[0m\u001b[1;33m\u001b[0m\u001b[1;33m\u001b[0m\u001b[0m\n\u001b[0;32m    103\u001b[0m         \u001b[0mPressures\u001b[0m \u001b[1;33m=\u001b[0m \u001b[0mPressures\u001b[0m \u001b[1;33m+\u001b[0m \u001b[1;33m[\u001b[0m\u001b[0mP\u001b[0m\u001b[1;33m]\u001b[0m\u001b[1;33m\u001b[0m\u001b[1;33m\u001b[0m\u001b[0m\n\u001b[1;32m--> 104\u001b[1;33m         \u001b[0mRadii\u001b[0m \u001b[1;33m=\u001b[0m \u001b[0mRadii\u001b[0m \u001b[1;33m+\u001b[0m \u001b[1;33m[\u001b[0m\u001b[0mr\u001b[0m\u001b[1;33m]\u001b[0m\u001b[1;33m\u001b[0m\u001b[1;33m\u001b[0m\u001b[0m\n\u001b[0m\u001b[0;32m    105\u001b[0m         \u001b[0mr\u001b[0m \u001b[1;33m=\u001b[0m \u001b[0mr\u001b[0m \u001b[1;33m+\u001b[0m \u001b[0mstep\u001b[0m\u001b[1;33m\u001b[0m\u001b[1;33m\u001b[0m\u001b[0m\n\u001b[0;32m    106\u001b[0m     \u001b[1;32mreturn\u001b[0m \u001b[0mm\u001b[0m\u001b[1;33m,\u001b[0m \u001b[0mr\u001b[0m\u001b[1;33m\u001b[0m\u001b[1;33m\u001b[0m\u001b[0m\n",
      "\u001b[1;31mKeyboardInterrupt\u001b[0m: "
     ]
    }
   ],
   "source": [
    "def integrate__max_cos(P, m, A):\n",
    "    end = False\n",
    "    r = 1\n",
    "    step = 50\n",
    "    Masses = []\n",
    "    Pressures = []\n",
    "    Radii = []\n",
    "    while end == False:\n",
    "        slope_m = dM_dr_npe(P, m, r)\n",
    "        m = m + slope_m * step\n",
    "        slope_P = dP_dr_cos(P, m, r, A)\n",
    "        P = P + slope_P * step\n",
    "        if P < 0:\n",
    "            break\n",
    "        Masses = Masses + [m]\n",
    "        Pressures = Pressures + [P]\n",
    "        Radii = Radii + [r]\n",
    "        r = r + step\n",
    "    print (m)\n",
    "    return m, r\n",
    "\n",
    "Mass_cos, Radius_cos = results_cos(Dos[20:-1], 0, 5*10**-10)"
   ]
  },
  {
   "cell_type": "code",
   "execution_count": null,
   "id": "b7d1ef79",
   "metadata": {},
   "outputs": [],
   "source": []
  }
 ],
 "metadata": {
  "kernelspec": {
   "display_name": "Python 3",
   "language": "python",
   "name": "python3"
  },
  "language_info": {
   "codemirror_mode": {
    "name": "ipython",
    "version": 3
   },
   "file_extension": ".py",
   "mimetype": "text/x-python",
   "name": "python",
   "nbconvert_exporter": "python",
   "pygments_lexer": "ipython3",
   "version": "3.8.8"
  }
 },
 "nbformat": 4,
 "nbformat_minor": 5
}
